{
 "cells": [
  {
   "cell_type": "markdown",
   "metadata": {
    "vscode": {
     "languageId": "r"
    }
   },
   "source": [
    "### Table of Contents\n",
    "\n",
    "1. Loading dataframes\n",
    "2. Task 1\n",
    "    - 2.1 Using sqldf (for reference)\n",
    "    - 2.2 Using standard functions\n",
    "        - Total comments per user\n",
    "        - Total questions and answers per user\n",
    "        - Score per user\n",
    "        - Accepted answers per user\n",
    "        - Final dataframe\n",
    "    - 2.3 Using dplyr package\n",
    "    - 2.4 Comparison and thoughts\n",
    "3. Task 2\n",
    "    - 3.1 Using sqldf (for reference)\n",
    "    - 3.2 Using standard R functions\n",
    "        - Users with relevant badges\n",
    "        - Posts by location\n",
    "        - Badges by location\n",
    "        - Final dataframe\n",
    "    - 3.3 Using dplyr package\n",
    "    - 3.4 Comparison and thoughts\n",
    "4. Task 3\n",
    "    - 4.1 Using sqldf (for reference)\n",
    "    - 4.2 Using standard R functions\n",
    "    - 4.3 Explanation of the query\n",
    "\n"
   ]
  },
  {
   "cell_type": "markdown",
   "metadata": {},
   "source": [
    "# 1. Loading dataframes and libraries"
   ]
  },
  {
   "cell_type": "code",
   "execution_count": 18,
   "metadata": {
    "vscode": {
     "languageId": "r"
    }
   },
   "outputs": [],
   "source": [
    "Badges <- read.csv(\"data/badges.csv\")\n",
    "Comments <- read.csv(\"data/comments.csv\")\n",
    "PostLinks <- read.csv(\"data/postLinks.csv\")\n",
    "Posts <- read.csv(\"data/posts.csv\")\n",
    "Tags <- read.csv(\"data/tags.csv\")\n",
    "Users <- read.csv(\"data/users.csv\")\n",
    "Votes <- read.csv(\"data/votes.csv\")\n"
   ]
  },
  {
   "cell_type": "code",
   "execution_count": 19,
   "metadata": {
    "vscode": {
     "languageId": "r"
    }
   },
   "outputs": [
    {
     "name": "stdout",
     "output_type": "stream",
     "text": [
      "[1] 106248\n",
      "[1] 164608\n",
      "[1] 6637\n",
      "[1] 70619\n",
      "[1] 579\n",
      "[1] 56104\n",
      "[1] 354103\n"
     ]
    }
   ],
   "source": [
    "print(nrow(Badges))\n",
    "print(nrow(Comments))\n",
    "print(nrow(PostLinks))\n",
    "print(nrow(Posts))\n",
    "print(nrow(Tags))\n",
    "print(nrow(Users))\n",
    "print(nrow(Votes))\n"
   ]
  },
  {
   "cell_type": "code",
   "execution_count": 20,
   "metadata": {
    "vscode": {
     "languageId": "r"
    }
   },
   "outputs": [],
   "source": [
    "library(dplyr)\n",
    "library(microbenchmark)\n",
    "library(sqldf)\n"
   ]
  },
  {
   "cell_type": "markdown",
   "metadata": {},
   "source": [
    "# 2.Task 1"
   ]
  },
  {
   "cell_type": "markdown",
   "metadata": {},
   "source": [
    "## 2.1 Using sqldf (for reference)"
   ]
  },
  {
   "cell_type": "code",
   "execution_count": 21,
   "metadata": {
    "vscode": {
     "languageId": "r"
    }
   },
   "outputs": [
    {
     "data": {
      "text/html": [
       "<table class=\"dataframe\">\n",
       "<caption>A data.frame: 10 x 7</caption>\n",
       "<thead>\n",
       "\t<tr><th scope=col>UserId</th><th scope=col>DisplayName</th><th scope=col>TotalQuestions</th><th scope=col>TotalAnswers</th><th scope=col>TotalComments</th><th scope=col>TotalScore</th><th scope=col>AcceptedAnswers</th></tr>\n",
       "\t<tr><th scope=col>&lt;int&gt;</th><th scope=col>&lt;chr&gt;</th><th scope=col>&lt;int&gt;</th><th scope=col>&lt;int&gt;</th><th scope=col>&lt;int&gt;</th><th scope=col>&lt;int&gt;</th><th scope=col>&lt;int&gt;</th></tr>\n",
       "</thead>\n",
       "<tbody>\n",
       "\t<tr><td>25959</td><td>Nathan Knutson   </td><td>15</td><td>1556</td><td> 1385</td><td> 10368110</td><td>632</td></tr>\n",
       "\t<tr><td>19705</td><td>Criggie          </td><td>58</td><td>3117</td><td>14173</td><td>174016094</td><td>563</td></tr>\n",
       "\t<tr><td>24228</td><td>Argenti Apparatus</td><td> 3</td><td>1685</td><td> 2221</td><td> 15375983</td><td>452</td></tr>\n",
       "\t<tr><td> 8219</td><td>Batman           </td><td> 7</td><td> 873</td><td> 3432</td><td> 14222208</td><td>321</td></tr>\n",
       "\t<tr><td> 3924</td><td>mattnz           </td><td> 9</td><td> 851</td><td> 3045</td><td> 14186655</td><td>250</td></tr>\n",
       "\t<tr><td> 7309</td><td>Chris H          </td><td>90</td><td> 930</td><td> 6552</td><td> 36599472</td><td>203</td></tr>\n",
       "\t<tr><td> 1584</td><td>Daniel R Hicks   </td><td>16</td><td>1025</td><td>11828</td><td> 59305592</td><td>198</td></tr>\n",
       "\t<tr><td> 1259</td><td>zenbike          </td><td>10</td><td> 465</td><td> 1187</td><td>  3160981</td><td>196</td></tr>\n",
       "\t<tr><td>38270</td><td>Weiwen Ng        </td><td> 4</td><td> 667</td><td> 2053</td><td>  5937276</td><td>150</td></tr>\n",
       "\t<tr><td> 4534</td><td>Rider_X          </td><td> 5</td><td> 358</td><td> 1268</td><td>  3526308</td><td>148</td></tr>\n",
       "</tbody>\n",
       "</table>\n"
      ],
      "text/latex": [
       "A data.frame: 10 x 7\n",
       "\\begin{tabular}{lllllll}\n",
       " UserId & DisplayName & TotalQuestions & TotalAnswers & TotalComments & TotalScore & AcceptedAnswers\\\\\n",
       " <int> & <chr> & <int> & <int> & <int> & <int> & <int>\\\\\n",
       "\\hline\n",
       "\t 25959 & Nathan Knutson    & 15 & 1556 &  1385 &  10368110 & 632\\\\\n",
       "\t 19705 & Criggie           & 58 & 3117 & 14173 & 174016094 & 563\\\\\n",
       "\t 24228 & Argenti Apparatus &  3 & 1685 &  2221 &  15375983 & 452\\\\\n",
       "\t  8219 & Batman            &  7 &  873 &  3432 &  14222208 & 321\\\\\n",
       "\t  3924 & mattnz            &  9 &  851 &  3045 &  14186655 & 250\\\\\n",
       "\t  7309 & Chris H           & 90 &  930 &  6552 &  36599472 & 203\\\\\n",
       "\t  1584 & Daniel R Hicks    & 16 & 1025 & 11828 &  59305592 & 198\\\\\n",
       "\t  1259 & zenbike           & 10 &  465 &  1187 &   3160981 & 196\\\\\n",
       "\t 38270 & Weiwen Ng         &  4 &  667 &  2053 &   5937276 & 150\\\\\n",
       "\t  4534 & Rider\\_X           &  5 &  358 &  1268 &   3526308 & 148\\\\\n",
       "\\end{tabular}\n"
      ],
      "text/markdown": [
       "\n",
       "A data.frame: 10 x 7\n",
       "\n",
       "| UserId &lt;int&gt; | DisplayName &lt;chr&gt; | TotalQuestions &lt;int&gt; | TotalAnswers &lt;int&gt; | TotalComments &lt;int&gt; | TotalScore &lt;int&gt; | AcceptedAnswers &lt;int&gt; |\n",
       "|---|---|---|---|---|---|---|\n",
       "| 25959 | Nathan Knutson    | 15 | 1556 |  1385 |  10368110 | 632 |\n",
       "| 19705 | Criggie           | 58 | 3117 | 14173 | 174016094 | 563 |\n",
       "| 24228 | Argenti Apparatus |  3 | 1685 |  2221 |  15375983 | 452 |\n",
       "|  8219 | Batman            |  7 |  873 |  3432 |  14222208 | 321 |\n",
       "|  3924 | mattnz            |  9 |  851 |  3045 |  14186655 | 250 |\n",
       "|  7309 | Chris H           | 90 |  930 |  6552 |  36599472 | 203 |\n",
       "|  1584 | Daniel R Hicks    | 16 | 1025 | 11828 |  59305592 | 198 |\n",
       "|  1259 | zenbike           | 10 |  465 |  1187 |   3160981 | 196 |\n",
       "| 38270 | Weiwen Ng         |  4 |  667 |  2053 |   5937276 | 150 |\n",
       "|  4534 | Rider_X           |  5 |  358 |  1268 |   3526308 | 148 |\n",
       "\n"
      ],
      "text/plain": [
       "   UserId DisplayName       TotalQuestions TotalAnswers TotalComments\n",
       "1  25959  Nathan Knutson    15             1556          1385        \n",
       "2  19705  Criggie           58             3117         14173        \n",
       "3  24228  Argenti Apparatus  3             1685          2221        \n",
       "4   8219  Batman             7              873          3432        \n",
       "5   3924  mattnz             9              851          3045        \n",
       "6   7309  Chris H           90              930          6552        \n",
       "7   1584  Daniel R Hicks    16             1025         11828        \n",
       "8   1259  zenbike           10              465          1187        \n",
       "9  38270  Weiwen Ng          4              667          2053        \n",
       "10  4534  Rider_X            5              358          1268        \n",
       "   TotalScore AcceptedAnswers\n",
       "1   10368110  632            \n",
       "2  174016094  563            \n",
       "3   15375983  452            \n",
       "4   14222208  321            \n",
       "5   14186655  250            \n",
       "6   36599472  203            \n",
       "7   59305592  198            \n",
       "8    3160981  196            \n",
       "9    5937276  150            \n",
       "10   3526308  148            "
      ]
     },
     "metadata": {},
     "output_type": "display_data"
    }
   ],
   "source": [
    "tmp <- sqldf(\"\n",
    "  SELECT \n",
    "    u.Id as UserId,\n",
    "    u.DisplayName,\n",
    "    COUNT(DISTINCT CASE WHEN p.PostTypeId = 1 THEN p.Id END) as TotalQuestions,\n",
    "    COUNT(DISTINCT CASE WHEN p.PostTypeId = 2 THEN p.Id END) as TotalAnswers,\n",
    "    COUNT(DISTINCT c.Id) as TotalComments,\n",
    "    SUM(p.Score) as TotalScore,\n",
    "    COUNT(\n",
    "      DISTINCT CASE WHEN p2.AcceptedAnswerId = p.Id THEN p.Id END\n",
    "    ) as AcceptedAnswers\n",
    "  FROM Users u\n",
    "  LEFT JOIN Posts p ON u.Id = p.OwnerUserId\n",
    "  LEFT JOIN Comments c ON u.Id = c.UserId\n",
    "  LEFT JOIN Posts p2 ON p2.AcceptedAnswerId = p.Id\n",
    "  GROUP BY u.Id, u.DisplayName\n",
    "  HAVING AcceptedAnswers > 0\n",
    "  ORDER BY AcceptedAnswers DESC\n",
    "  LIMIT 10\n",
    "\")\n",
    "\n",
    "tmp"
   ]
  },
  {
   "cell_type": "markdown",
   "metadata": {},
   "source": [
    "## 2.2 Using standard R functions"
   ]
  },
  {
   "cell_type": "markdown",
   "metadata": {},
   "source": [
    "#### Total comments per user"
   ]
  },
  {
   "cell_type": "code",
   "execution_count": 22,
   "metadata": {
    "vscode": {
     "languageId": "r"
    }
   },
   "outputs": [],
   "source": [
    "comments_by_user <- aggregate(\n",
    "  Id ~ UserId,  # Group by UserId and count Id\n",
    "  data = Comments,\n",
    "  FUN = length\n",
    ")\n",
    "names(comments_by_user) <- c(\"UserId\", \"TotalComments\")\n"
   ]
  },
  {
   "cell_type": "markdown",
   "metadata": {},
   "source": [
    "#### Total questions and answers per user"
   ]
  },
  {
   "cell_type": "code",
   "execution_count": 23,
   "metadata": {
    "vscode": {
     "languageId": "r"
    }
   },
   "outputs": [],
   "source": [
    "questions_answers_by_user <- aggregate(\n",
    "  Id ~ OwnerUserId + PostTypeId,  # Group by UserId and PostTypeId and count Id\n",
    "  data = Posts[Posts$PostTypeId %in% c(1, 2), ],\n",
    "  FUN = length\n",
    ")\n",
    "\n",
    "# Pivot PostTypeId into separate columns for questions and answers\n",
    "questions_answers_wide <- reshape(\n",
    "  questions_answers_by_user[, c(\"OwnerUserId\", \"PostTypeId\", \"Id\")],\n",
    "  idvar = \"OwnerUserId\",\n",
    "  timevar = \"PostTypeId\",\n",
    "  direction = \"wide\"\n",
    ")\n",
    "\n",
    "# Rename columns to be more descriptive\n",
    "names(questions_answers_wide) <- c(\"UserId\", \"TotalQuestions\", \"TotalAnswers\")\n",
    "\n",
    "# Replace NA values with 0\n",
    "questions_answers_wide$TotalQuestions[\n",
    "  is.na(questions_answers_wide$TotalQuestions)\n",
    "] <- 0\n",
    "questions_answers_wide$TotalAnswers[\n",
    "  is.na(questions_answers_wide$TotalAnswers)\n",
    "] <- 0\n",
    "\n",
    "questions_answers_by_user <- questions_answers_wide\n"
   ]
  },
  {
   "cell_type": "markdown",
   "metadata": {},
   "source": [
    "#### Score per user"
   ]
  },
  {
   "cell_type": "code",
   "execution_count": 24,
   "metadata": {
    "vscode": {
     "languageId": "r"
    }
   },
   "outputs": [],
   "source": [
    "score_by_user <- aggregate(\n",
    "  Score ~ OwnerUserId,\n",
    "  data = Posts,\n",
    "  FUN = sum\n",
    ")\n",
    "names(score_by_user) <- c(\"UserId\", \"TotalScore\")\n"
   ]
  },
  {
   "cell_type": "markdown",
   "metadata": {},
   "source": [
    "#### Accepted answers per user"
   ]
  },
  {
   "cell_type": "code",
   "execution_count": 25,
   "metadata": {
    "vscode": {
     "languageId": "r"
    }
   },
   "outputs": [],
   "source": [
    "# Get accepted answers by user\n",
    "accepted_answers_by_user <- Posts[\n",
    "  Posts$Id %in% Posts$AcceptedAnswerId[!is.na(Posts$AcceptedAnswerId)],\n",
    "  c(\"OwnerUserId\", \"Id\")\n",
    "]\n",
    "\n",
    "# Count accepted answers per user\n",
    "accepted_answers_count <- aggregate(\n",
    "  Id ~ OwnerUserId,\n",
    "  data = accepted_answers_by_user,\n",
    "  FUN = length\n",
    ")\n",
    "\n",
    "# Rename columns\n",
    "names(accepted_answers_count) <- c(\"UserId\", \"AcceptedAnswers\")\n"
   ]
  },
  {
   "cell_type": "markdown",
   "metadata": {
    "vscode": {
     "languageId": "r"
    }
   },
   "source": [
    "#### Final dataframe"
   ]
  },
  {
   "cell_type": "code",
   "execution_count": 26,
   "metadata": {
    "vscode": {
     "languageId": "r"
    }
   },
   "outputs": [
    {
     "data": {
      "text/html": [
       "<table class=\"dataframe\">\n",
       "<caption>A data.frame: 10 x 7</caption>\n",
       "<thead>\n",
       "\t<tr><th></th><th scope=col>UserId</th><th scope=col>DisplayName</th><th scope=col>TotalQuestions</th><th scope=col>TotalAnswers</th><th scope=col>TotalComments</th><th scope=col>TotalScore</th><th scope=col>AcceptedAnswers</th></tr>\n",
       "\t<tr><th></th><th scope=col>&lt;int&gt;</th><th scope=col>&lt;chr&gt;</th><th scope=col>&lt;dbl&gt;</th><th scope=col>&lt;dbl&gt;</th><th scope=col>&lt;int&gt;</th><th scope=col>&lt;int&gt;</th><th scope=col>&lt;int&gt;</th></tr>\n",
       "</thead>\n",
       "<tbody>\n",
       "\t<tr><th scope=row>1</th><td>25959</td><td>Nathan Knutson   </td><td>15</td><td>1556</td><td> 1385</td><td> 7486</td><td>632</td></tr>\n",
       "\t<tr><th scope=row>2</th><td>19705</td><td>Criggie          </td><td>58</td><td>3117</td><td>14173</td><td>12278</td><td>563</td></tr>\n",
       "\t<tr><th scope=row>3</th><td>24228</td><td>Argenti Apparatus</td><td> 3</td><td>1685</td><td> 2221</td><td> 6923</td><td>452</td></tr>\n",
       "\t<tr><th scope=row>4</th><td> 8219</td><td>Batman           </td><td> 7</td><td> 873</td><td> 3432</td><td> 4144</td><td>321</td></tr>\n",
       "\t<tr><th scope=row>5</th><td> 3924</td><td>mattnz           </td><td> 9</td><td> 851</td><td> 3045</td><td> 4659</td><td>250</td></tr>\n",
       "\t<tr><th scope=row>6</th><td> 7309</td><td>Chris H          </td><td>90</td><td> 930</td><td> 6552</td><td> 5586</td><td>203</td></tr>\n",
       "\t<tr><th scope=row>7</th><td> 1584</td><td>Daniel R Hicks   </td><td>16</td><td>1025</td><td>11828</td><td> 5014</td><td>198</td></tr>\n",
       "\t<tr><th scope=row>8</th><td> 1259</td><td>zenbike          </td><td>10</td><td> 465</td><td> 1187</td><td> 2663</td><td>196</td></tr>\n",
       "\t<tr><th scope=row>9</th><td>38270</td><td>Weiwen Ng        </td><td> 4</td><td> 667</td><td> 2053</td><td> 2892</td><td>150</td></tr>\n",
       "\t<tr><th scope=row>10</th><td> 4534</td><td>Rider_X          </td><td> 5</td><td> 358</td><td> 1268</td><td> 2781</td><td>148</td></tr>\n",
       "</tbody>\n",
       "</table>\n"
      ],
      "text/latex": [
       "A data.frame: 10 x 7\n",
       "\\begin{tabular}{r|lllllll}\n",
       "  & UserId & DisplayName & TotalQuestions & TotalAnswers & TotalComments & TotalScore & AcceptedAnswers\\\\\n",
       "  & <int> & <chr> & <dbl> & <dbl> & <int> & <int> & <int>\\\\\n",
       "\\hline\n",
       "\t1 & 25959 & Nathan Knutson    & 15 & 1556 &  1385 &  7486 & 632\\\\\n",
       "\t2 & 19705 & Criggie           & 58 & 3117 & 14173 & 12278 & 563\\\\\n",
       "\t3 & 24228 & Argenti Apparatus &  3 & 1685 &  2221 &  6923 & 452\\\\\n",
       "\t4 &  8219 & Batman            &  7 &  873 &  3432 &  4144 & 321\\\\\n",
       "\t5 &  3924 & mattnz            &  9 &  851 &  3045 &  4659 & 250\\\\\n",
       "\t6 &  7309 & Chris H           & 90 &  930 &  6552 &  5586 & 203\\\\\n",
       "\t7 &  1584 & Daniel R Hicks    & 16 & 1025 & 11828 &  5014 & 198\\\\\n",
       "\t8 &  1259 & zenbike           & 10 &  465 &  1187 &  2663 & 196\\\\\n",
       "\t9 & 38270 & Weiwen Ng         &  4 &  667 &  2053 &  2892 & 150\\\\\n",
       "\t10 &  4534 & Rider\\_X           &  5 &  358 &  1268 &  2781 & 148\\\\\n",
       "\\end{tabular}\n"
      ],
      "text/markdown": [
       "\n",
       "A data.frame: 10 x 7\n",
       "\n",
       "| <!--/--> | UserId &lt;int&gt; | DisplayName &lt;chr&gt; | TotalQuestions &lt;dbl&gt; | TotalAnswers &lt;dbl&gt; | TotalComments &lt;int&gt; | TotalScore &lt;int&gt; | AcceptedAnswers &lt;int&gt; |\n",
       "|---|---|---|---|---|---|---|---|\n",
       "| 1 | 25959 | Nathan Knutson    | 15 | 1556 |  1385 |  7486 | 632 |\n",
       "| 2 | 19705 | Criggie           | 58 | 3117 | 14173 | 12278 | 563 |\n",
       "| 3 | 24228 | Argenti Apparatus |  3 | 1685 |  2221 |  6923 | 452 |\n",
       "| 4 |  8219 | Batman            |  7 |  873 |  3432 |  4144 | 321 |\n",
       "| 5 |  3924 | mattnz            |  9 |  851 |  3045 |  4659 | 250 |\n",
       "| 6 |  7309 | Chris H           | 90 |  930 |  6552 |  5586 | 203 |\n",
       "| 7 |  1584 | Daniel R Hicks    | 16 | 1025 | 11828 |  5014 | 198 |\n",
       "| 8 |  1259 | zenbike           | 10 |  465 |  1187 |  2663 | 196 |\n",
       "| 9 | 38270 | Weiwen Ng         |  4 |  667 |  2053 |  2892 | 150 |\n",
       "| 10 |  4534 | Rider_X           |  5 |  358 |  1268 |  2781 | 148 |\n",
       "\n"
      ],
      "text/plain": [
       "   UserId DisplayName       TotalQuestions TotalAnswers TotalComments\n",
       "1  25959  Nathan Knutson    15             1556          1385        \n",
       "2  19705  Criggie           58             3117         14173        \n",
       "3  24228  Argenti Apparatus  3             1685          2221        \n",
       "4   8219  Batman             7              873          3432        \n",
       "5   3924  mattnz             9              851          3045        \n",
       "6   7309  Chris H           90              930          6552        \n",
       "7   1584  Daniel R Hicks    16             1025         11828        \n",
       "8   1259  zenbike           10              465          1187        \n",
       "9  38270  Weiwen Ng          4              667          2053        \n",
       "10  4534  Rider_X            5              358          1268        \n",
       "   TotalScore AcceptedAnswers\n",
       "1   7486      632            \n",
       "2  12278      563            \n",
       "3   6923      452            \n",
       "4   4144      321            \n",
       "5   4659      250            \n",
       "6   5586      203            \n",
       "7   5014      198            \n",
       "8   2663      196            \n",
       "9   2892      150            \n",
       "10  2781      148            "
      ]
     },
     "metadata": {},
     "output_type": "display_data"
    }
   ],
   "source": [
    "final <- merge(\n",
    "  accepted_answers_count,\n",
    "  Users[, c(\"Id\", \"DisplayName\")],\n",
    "  by.x = \"UserId\",\n",
    "  by.y = \"Id\"\n",
    ")\n",
    "\n",
    "final <- merge(\n",
    "  final,\n",
    "  score_by_user,\n",
    "  by = \"UserId\"\n",
    ")\n",
    "\n",
    "final <- merge(\n",
    "  final,\n",
    "  comments_by_user,\n",
    "  by = \"UserId\"\n",
    ")\n",
    "\n",
    "final <- merge(\n",
    "  final,\n",
    "  questions_answers_by_user,\n",
    "  by = \"UserId\"\n",
    ")\n",
    "\n",
    "# Reorder columns\n",
    "final <- final[, c(\n",
    "  \"UserId\", \"DisplayName\", \"TotalQuestions\", \"TotalAnswers\",\n",
    "  \"TotalComments\", \"TotalScore\", \"AcceptedAnswers\"\n",
    ")]\n",
    "\n",
    "# Sort by AcceptedAnswers descending\n",
    "final <- final[order(final$AcceptedAnswers, decreasing = TRUE), ]\n",
    "\n",
    "# Reset row numbers\n",
    "rownames(final) <- NULL\n",
    "\n",
    "# Show only top 10\n",
    "final <- head(final, n = 10)\n",
    "\n",
    "final\n"
   ]
  },
  {
   "cell_type": "markdown",
   "metadata": {},
   "source": [
    "## 2.3 Using dplyr package"
   ]
  },
  {
   "cell_type": "code",
   "execution_count": 27,
   "metadata": {
    "vscode": {
     "languageId": "r"
    }
   },
   "outputs": [
    {
     "data": {
      "text/html": [
       "<table class=\"dataframe\">\n",
       "<caption>A tibble: 10 x 7</caption>\n",
       "<thead>\n",
       "\t<tr><th scope=col>UserId</th><th scope=col>DisplayName</th><th scope=col>TotalQuestions</th><th scope=col>TotalAnswers</th><th scope=col>TotalComments</th><th scope=col>TotalScore</th><th scope=col>AcceptedAnswers</th></tr>\n",
       "\t<tr><th scope=col>&lt;int&gt;</th><th scope=col>&lt;chr&gt;</th><th scope=col>&lt;int&gt;</th><th scope=col>&lt;int&gt;</th><th scope=col>&lt;int&gt;</th><th scope=col>&lt;int&gt;</th><th scope=col>&lt;int&gt;</th></tr>\n",
       "</thead>\n",
       "<tbody>\n",
       "\t<tr><td>25959</td><td>Nathan Knutson   </td><td>15</td><td>1556</td><td> 1385</td><td> 7486</td><td>632</td></tr>\n",
       "\t<tr><td>19705</td><td>Criggie          </td><td>58</td><td>3117</td><td>14173</td><td>12278</td><td>563</td></tr>\n",
       "\t<tr><td>24228</td><td>Argenti Apparatus</td><td> 3</td><td>1685</td><td> 2221</td><td> 6923</td><td>452</td></tr>\n",
       "\t<tr><td> 8219</td><td>Batman           </td><td> 7</td><td> 873</td><td> 3432</td><td> 4144</td><td>321</td></tr>\n",
       "\t<tr><td> 3924</td><td>mattnz           </td><td> 9</td><td> 851</td><td> 3045</td><td> 4659</td><td>250</td></tr>\n",
       "\t<tr><td> 7309</td><td>Chris H          </td><td>90</td><td> 930</td><td> 6552</td><td> 5586</td><td>203</td></tr>\n",
       "\t<tr><td> 1584</td><td>Daniel R Hicks   </td><td>16</td><td>1025</td><td>11828</td><td> 5014</td><td>198</td></tr>\n",
       "\t<tr><td> 1259</td><td>zenbike          </td><td>10</td><td> 465</td><td> 1187</td><td> 2663</td><td>196</td></tr>\n",
       "\t<tr><td>38270</td><td>Weiwen Ng        </td><td> 4</td><td> 667</td><td> 2053</td><td> 2892</td><td>150</td></tr>\n",
       "\t<tr><td> 4534</td><td>Rider_X          </td><td> 5</td><td> 358</td><td> 1268</td><td> 2781</td><td>148</td></tr>\n",
       "</tbody>\n",
       "</table>\n"
      ],
      "text/latex": [
       "A tibble: 10 x 7\n",
       "\\begin{tabular}{lllllll}\n",
       " UserId & DisplayName & TotalQuestions & TotalAnswers & TotalComments & TotalScore & AcceptedAnswers\\\\\n",
       " <int> & <chr> & <int> & <int> & <int> & <int> & <int>\\\\\n",
       "\\hline\n",
       "\t 25959 & Nathan Knutson    & 15 & 1556 &  1385 &  7486 & 632\\\\\n",
       "\t 19705 & Criggie           & 58 & 3117 & 14173 & 12278 & 563\\\\\n",
       "\t 24228 & Argenti Apparatus &  3 & 1685 &  2221 &  6923 & 452\\\\\n",
       "\t  8219 & Batman            &  7 &  873 &  3432 &  4144 & 321\\\\\n",
       "\t  3924 & mattnz            &  9 &  851 &  3045 &  4659 & 250\\\\\n",
       "\t  7309 & Chris H           & 90 &  930 &  6552 &  5586 & 203\\\\\n",
       "\t  1584 & Daniel R Hicks    & 16 & 1025 & 11828 &  5014 & 198\\\\\n",
       "\t  1259 & zenbike           & 10 &  465 &  1187 &  2663 & 196\\\\\n",
       "\t 38270 & Weiwen Ng         &  4 &  667 &  2053 &  2892 & 150\\\\\n",
       "\t  4534 & Rider\\_X           &  5 &  358 &  1268 &  2781 & 148\\\\\n",
       "\\end{tabular}\n"
      ],
      "text/markdown": [
       "\n",
       "A tibble: 10 x 7\n",
       "\n",
       "| UserId &lt;int&gt; | DisplayName &lt;chr&gt; | TotalQuestions &lt;int&gt; | TotalAnswers &lt;int&gt; | TotalComments &lt;int&gt; | TotalScore &lt;int&gt; | AcceptedAnswers &lt;int&gt; |\n",
       "|---|---|---|---|---|---|---|\n",
       "| 25959 | Nathan Knutson    | 15 | 1556 |  1385 |  7486 | 632 |\n",
       "| 19705 | Criggie           | 58 | 3117 | 14173 | 12278 | 563 |\n",
       "| 24228 | Argenti Apparatus |  3 | 1685 |  2221 |  6923 | 452 |\n",
       "|  8219 | Batman            |  7 |  873 |  3432 |  4144 | 321 |\n",
       "|  3924 | mattnz            |  9 |  851 |  3045 |  4659 | 250 |\n",
       "|  7309 | Chris H           | 90 |  930 |  6552 |  5586 | 203 |\n",
       "|  1584 | Daniel R Hicks    | 16 | 1025 | 11828 |  5014 | 198 |\n",
       "|  1259 | zenbike           | 10 |  465 |  1187 |  2663 | 196 |\n",
       "| 38270 | Weiwen Ng         |  4 |  667 |  2053 |  2892 | 150 |\n",
       "|  4534 | Rider_X           |  5 |  358 |  1268 |  2781 | 148 |\n",
       "\n"
      ],
      "text/plain": [
       "   UserId DisplayName       TotalQuestions TotalAnswers TotalComments\n",
       "1  25959  Nathan Knutson    15             1556          1385        \n",
       "2  19705  Criggie           58             3117         14173        \n",
       "3  24228  Argenti Apparatus  3             1685          2221        \n",
       "4   8219  Batman             7              873          3432        \n",
       "5   3924  mattnz             9              851          3045        \n",
       "6   7309  Chris H           90              930          6552        \n",
       "7   1584  Daniel R Hicks    16             1025         11828        \n",
       "8   1259  zenbike           10              465          1187        \n",
       "9  38270  Weiwen Ng          4              667          2053        \n",
       "10  4534  Rider_X            5              358          1268        \n",
       "   TotalScore AcceptedAnswers\n",
       "1   7486      632            \n",
       "2  12278      563            \n",
       "3   6923      452            \n",
       "4   4144      321            \n",
       "5   4659      250            \n",
       "6   5586      203            \n",
       "7   5014      198            \n",
       "8   2663      196            \n",
       "9   2892      150            \n",
       "10  2781      148            "
      ]
     },
     "metadata": {},
     "output_type": "display_data"
    }
   ],
   "source": [
    "# Load required package\n",
    "library(dplyr)\n",
    "\n",
    "# Total comments per user\n",
    "comments_by_user <- Comments %>%\n",
    "  group_by(UserId) %>%\n",
    "  summarise(TotalComments = n())\n",
    "\n",
    "# Total questions and answers per user\n",
    "questions_answers_by_user <- Posts %>%\n",
    "  filter(PostTypeId %in% c(1, 2)) %>%\n",
    "  group_by(OwnerUserId) %>%\n",
    "  summarise(\n",
    "    TotalQuestions = sum(PostTypeId == 1),\n",
    "    TotalAnswers = sum(PostTypeId == 2)\n",
    "  )\n",
    "\n",
    "# Score per user\n",
    "score_by_user <- Posts %>%\n",
    "  group_by(OwnerUserId) %>%\n",
    "  summarise(TotalScore = sum(Score))\n",
    "\n",
    "# Accepted answers per user\n",
    "accepted_answers_count <- Posts %>%\n",
    "  filter(Id %in% na.omit(Posts$AcceptedAnswerId)) %>%\n",
    "  group_by(OwnerUserId) %>%\n",
    "  summarise(AcceptedAnswers = n()) %>%\n",
    "  arrange(desc(AcceptedAnswers)) %>%\n",
    "  head(10)\n",
    "\n",
    "# Final combined dataframe\n",
    "final <- accepted_answers_count %>%\n",
    "  left_join(Users %>% select(Id, DisplayName),\n",
    "            by = c(\"OwnerUserId\" = \"Id\")) %>%\n",
    "  left_join(score_by_user,\n",
    "            by = c(\"OwnerUserId\" = \"OwnerUserId\")) %>%\n",
    "  left_join(comments_by_user,\n",
    "            by = c(\"OwnerUserId\" = \"UserId\")) %>%\n",
    "  left_join(questions_answers_by_user,\n",
    "            by = c(\"OwnerUserId\" = \"OwnerUserId\")) %>%\n",
    "  select(\n",
    "    UserId = OwnerUserId,\n",
    "    DisplayName,\n",
    "    TotalQuestions,\n",
    "    TotalAnswers,\n",
    "    TotalComments,\n",
    "    TotalScore,\n",
    "    AcceptedAnswers\n",
    "  ) %>%\n",
    "  arrange(desc(AcceptedAnswers))\n",
    "\n",
    "final\n"
   ]
  },
  {
   "cell_type": "markdown",
   "metadata": {},
   "source": [
    "## 2.4. Comparison and thoughts"
   ]
  },
  {
   "cell_type": "markdown",
   "metadata": {},
   "source": [
    "#### Benchmarking"
   ]
  },
  {
   "cell_type": "code",
   "execution_count": 28,
   "metadata": {
    "vscode": {
     "languageId": "r"
    }
   },
   "outputs": [],
   "source": [
    "res <- microbenchmark(\n",
    "  base = {\n",
    "    comments_by_user <- aggregate(\n",
    "      Id ~ UserId,  # Group by UserId and count Id\n",
    "      data = Comments,\n",
    "      FUN = length\n",
    "    )\n",
    "    names(comments_by_user) <- c(\"UserId\", \"TotalComments\")\n",
    "    questions_answers_by_user <- aggregate(\n",
    "      Id ~ OwnerUserId + PostTypeId,\n",
    "      data = Posts[Posts$PostTypeId %in% c(1, 2), ],\n",
    "      FUN = length\n",
    "    )\n",
    "    questions_answers_wide <- reshape(\n",
    "      questions_answers_by_user[, c(\"OwnerUserId\", \"PostTypeId\", \"Id\")],\n",
    "      idvar = \"OwnerUserId\",\n",
    "      timevar = \"PostTypeId\",\n",
    "      direction = \"wide\"\n",
    "    )\n",
    "    names(questions_answers_wide) <- c(\n",
    "      \"UserId\", \"TotalQuestions\", \"TotalAnswers\"\n",
    "    )\n",
    "    questions_answers_wide$TotalQuestions[\n",
    "      is.na(questions_answers_wide$TotalQuestions)\n",
    "    ] <- 0\n",
    "    questions_answers_wide$TotalAnswers[\n",
    "      is.na(questions_answers_wide$TotalAnswers)\n",
    "    ] <- 0\n",
    "    questions_answers_by_user <- questions_answers_wide\n",
    "    score_by_user <- aggregate(\n",
    "      Score ~ OwnerUserId,\n",
    "      data = Posts,\n",
    "      FUN = sum\n",
    "    )\n",
    "    names(score_by_user) <- c(\"UserId\", \"TotalScore\")\n",
    "    accepted_answers_by_user <- Posts[\n",
    "      Posts$Id %in% Posts$AcceptedAnswerId[!is.na(Posts$AcceptedAnswerId)],\n",
    "      c(\"OwnerUserId\", \"Id\")\n",
    "    ]\n",
    "    accepted_answers_count <- aggregate(\n",
    "      Id ~ OwnerUserId,\n",
    "      data = accepted_answers_by_user,\n",
    "      FUN = length\n",
    "    )\n",
    "    names(accepted_answers_count) <- c(\"UserId\", \"AcceptedAnswers\")\n",
    "    final <- merge(\n",
    "      accepted_answers_count,\n",
    "      Users[, c(\"Id\", \"DisplayName\")],\n",
    "      by.x = \"UserId\",\n",
    "      by.y = \"Id\"\n",
    "    )\n",
    "    final <- merge(final, score_by_user, by = \"UserId\")\n",
    "    final <- merge(final, comments_by_user, by = \"UserId\")\n",
    "    final <- merge(final, questions_answers_by_user, by = \"UserId\")\n",
    "    final <- final[, c(\n",
    "      \"UserId\", \"DisplayName\", \"TotalQuestions\", \"TotalAnswers\",\n",
    "      \"TotalComments\", \"TotalScore\", \"AcceptedAnswers\"\n",
    "    )]\n",
    "    final <- final[order(final$AcceptedAnswers, decreasing = TRUE), ]\n",
    "    rownames(final) <- NULL\n",
    "    final <- head(final, n = 10)\n",
    "  },\n",
    "  dplyr = {\n",
    "    comments_by_user <- Comments %>%\n",
    "      group_by(UserId) %>%\n",
    "      summarise(TotalComments = n())\n",
    "    questions_answers_by_user <- Posts %>%\n",
    "      filter(PostTypeId %in% c(1, 2)) %>%\n",
    "      group_by(OwnerUserId) %>%\n",
    "      summarise(\n",
    "        TotalQuestions = sum(PostTypeId == 1),\n",
    "        TotalAnswers = sum(PostTypeId == 2)\n",
    "      )\n",
    "    score_by_user <- Posts %>%\n",
    "      group_by(OwnerUserId) %>%\n",
    "      summarise(TotalScore = sum(Score))\n",
    "    accepted_answers_count <- Posts %>%\n",
    "      filter(Id %in% na.omit(Posts$AcceptedAnswerId)) %>%\n",
    "      group_by(OwnerUserId) %>%\n",
    "      summarise(AcceptedAnswers = n()) %>%\n",
    "      arrange(desc(AcceptedAnswers)) %>%\n",
    "      head(10)\n",
    "    final <- accepted_answers_count %>%\n",
    "      left_join(Users %>% select(Id, DisplayName),\n",
    "                by = c(\"OwnerUserId\" = \"Id\")) %>%\n",
    "      left_join(score_by_user,\n",
    "                by = c(\"OwnerUserId\" = \"OwnerUserId\")) %>%\n",
    "      left_join(comments_by_user,\n",
    "                by = c(\"OwnerUserId\" = \"UserId\")) %>%\n",
    "      left_join(questions_answers_by_user,\n",
    "                by = c(\"OwnerUserId\" = \"OwnerUserId\")) %>%\n",
    "      select(\n",
    "        UserId = OwnerUserId,\n",
    "        DisplayName,\n",
    "        TotalQuestions,\n",
    "        TotalAnswers,\n",
    "        TotalComments,\n",
    "        TotalScore,\n",
    "        AcceptedAnswers\n",
    "      ) %>%\n",
    "      arrange(desc(AcceptedAnswers))\n",
    "  },\n",
    "  sqldf = {\n",
    "    x <- sqldf(\"\n",
    "      SELECT \n",
    "        u.Id as UserId,\n",
    "        u.DisplayName,\n",
    "        COUNT(\n",
    "            DISTINCT CASE WHEN p.PostTypeId = 1 THEN p.Id END\n",
    "        ) as TotalQuestions,\n",
    "        COUNT(\n",
    "            DISTINCT CASE WHEN p.PostTypeId = 2 THEN p.Id END\n",
    "        ) as TotalAnswers,\n",
    "        COUNT(DISTINCT c.Id) as TotalComments,\n",
    "        SUM(p.Score) as TotalScore,\n",
    "        COUNT(\n",
    "            DISTINCT CASE WHEN p2.AcceptedAnswerId = p.Id THEN p.Id END\n",
    "        ) as AcceptedAnswers\n",
    "      FROM Users u\n",
    "      LEFT JOIN Posts p ON u.Id = p.OwnerUserId\n",
    "      LEFT JOIN Comments c ON u.Id = c.UserId\n",
    "      LEFT JOIN Posts p2 ON p2.AcceptedAnswerId = p.Id\n",
    "      GROUP BY u.Id, u.DisplayName\n",
    "      HAVING AcceptedAnswers > 0\n",
    "      ORDER BY AcceptedAnswers DESC\n",
    "      LIMIT 10\n",
    "    \")\n",
    "  }, times = 20\n",
    ")\n"
   ]
  },
  {
   "cell_type": "markdown",
   "metadata": {},
   "source": [
    "#### Result and thoughts"
   ]
  },
  {
   "cell_type": "code",
   "execution_count": 29,
   "metadata": {
    "vscode": {
     "languageId": "r"
    }
   },
   "outputs": [
    {
     "data": {
      "text/html": [
       "<table class=\"dataframe\">\n",
       "<caption>A data.frame: 3 x 8</caption>\n",
       "<thead>\n",
       "\t<tr><th scope=col>expr</th><th scope=col>min</th><th scope=col>lq</th><th scope=col>mean</th><th scope=col>median</th><th scope=col>uq</th><th scope=col>max</th><th scope=col>neval</th></tr>\n",
       "\t<tr><th scope=col>&lt;fct&gt;</th><th scope=col>&lt;dbl&gt;</th><th scope=col>&lt;dbl&gt;</th><th scope=col>&lt;dbl&gt;</th><th scope=col>&lt;dbl&gt;</th><th scope=col>&lt;dbl&gt;</th><th scope=col>&lt;dbl&gt;</th><th scope=col>&lt;dbl&gt;</th></tr>\n",
       "</thead>\n",
       "<tbody>\n",
       "\t<tr><td>base </td><td>  222.5667</td><td>  237.6976</td><td>  245.2374</td><td>  241.1072</td><td>  256.5562</td><td>  272.2792</td><td>20</td></tr>\n",
       "\t<tr><td>dplyr</td><td>  101.7753</td><td>  127.8812</td><td>  134.2086</td><td>  132.6005</td><td>  136.3210</td><td>  207.5562</td><td>20</td></tr>\n",
       "\t<tr><td>sqldf</td><td>67070.6543</td><td>67470.7029</td><td>69506.8089</td><td>68856.5414</td><td>70384.6360</td><td>78194.6955</td><td>20</td></tr>\n",
       "</tbody>\n",
       "</table>\n"
      ],
      "text/latex": [
       "A data.frame: 3 x 8\n",
       "\\begin{tabular}{llllllll}\n",
       " expr & min & lq & mean & median & uq & max & neval\\\\\n",
       " <fct> & <dbl> & <dbl> & <dbl> & <dbl> & <dbl> & <dbl> & <dbl>\\\\\n",
       "\\hline\n",
       "\t base  &   222.5667 &   237.6976 &   245.2374 &   241.1072 &   256.5562 &   272.2792 & 20\\\\\n",
       "\t dplyr &   101.7753 &   127.8812 &   134.2086 &   132.6005 &   136.3210 &   207.5562 & 20\\\\\n",
       "\t sqldf & 67070.6543 & 67470.7029 & 69506.8089 & 68856.5414 & 70384.6360 & 78194.6955 & 20\\\\\n",
       "\\end{tabular}\n"
      ],
      "text/markdown": [
       "\n",
       "A data.frame: 3 x 8\n",
       "\n",
       "| expr &lt;fct&gt; | min &lt;dbl&gt; | lq &lt;dbl&gt; | mean &lt;dbl&gt; | median &lt;dbl&gt; | uq &lt;dbl&gt; | max &lt;dbl&gt; | neval &lt;dbl&gt; |\n",
       "|---|---|---|---|---|---|---|---|\n",
       "| base  |   222.5667 |   237.6976 |   245.2374 |   241.1072 |   256.5562 |   272.2792 | 20 |\n",
       "| dplyr |   101.7753 |   127.8812 |   134.2086 |   132.6005 |   136.3210 |   207.5562 | 20 |\n",
       "| sqldf | 67070.6543 | 67470.7029 | 69506.8089 | 68856.5414 | 70384.6360 | 78194.6955 | 20 |\n",
       "\n"
      ],
      "text/plain": [
       "  expr  min        lq         mean       median     uq         max        neval\n",
       "1 base    222.5667   237.6976   245.2374   241.1072   256.5562   272.2792 20   \n",
       "2 dplyr   101.7753   127.8812   134.2086   132.6005   136.3210   207.5562 20   \n",
       "3 sqldf 67070.6543 67470.7029 69506.8089 68856.5414 70384.6360 78194.6955 20   "
      ]
     },
     "metadata": {},
     "output_type": "display_data"
    }
   ],
   "source": [
    "summary(res)"
   ]
  },
  {
   "cell_type": "markdown",
   "metadata": {},
   "source": [
    "It turns out that the dplyr package is the fastest, followed by the base R functions and sqldf, where sqldf is extremely slow.\n",
    "\n",
    "Using the base R functions is more like using pandas or pyspark in Python. It is more verbose and less readable, but flexible and convienient for ones experienced with python.\n",
    "\n",
    "Using dplyr or sqldf is more like using SQL. It is more readable and concise, but less flexible and convienient for ones experienced with python.\n",
    "\n",
    "All three methods returned exactly the same result.\n"
   ]
  },
  {
   "cell_type": "markdown",
   "metadata": {},
   "source": [
    "# 3. Task 2"
   ]
  },
  {
   "cell_type": "markdown",
   "metadata": {
    "vscode": {
     "languageId": "r"
    }
   },
   "source": [
    "## 3.1 Using sqldf (for reference)"
   ]
  },
  {
   "cell_type": "code",
   "execution_count": 97,
   "metadata": {
    "vscode": {
     "languageId": "r"
    }
   },
   "outputs": [
    {
     "data": {
      "text/html": [
       "<table class=\"dataframe\">\n",
       "<caption>A data.frame: 6 x 3</caption>\n",
       "<thead>\n",
       "\t<tr><th></th><th scope=col>Location</th><th scope=col>TotalPosts</th><th scope=col>TotalBadges</th></tr>\n",
       "\t<tr><th></th><th scope=col>&lt;chr&gt;</th><th scope=col>&lt;int&gt;</th><th scope=col>&lt;int&gt;</th></tr>\n",
       "</thead>\n",
       "<tbody>\n",
       "\t<tr><th scope=row>1</th><td>New Zealand     </td><td>9975</td><td>13</td></tr>\n",
       "\t<tr><th scope=row>2</th><td>Washington DC   </td><td>5102</td><td> 5</td></tr>\n",
       "\t<tr><th scope=row>3</th><td>Seattle, WA, USA</td><td>4763</td><td> 5</td></tr>\n",
       "\t<tr><th scope=row>4</th><td>UK              </td><td>4643</td><td>43</td></tr>\n",
       "\t<tr><th scope=row>5</th><td>Minnesota, USA  </td><td>3123</td><td> 3</td></tr>\n",
       "\t<tr><th scope=row>6</th><td>United States   </td><td>2883</td><td>65</td></tr>\n",
       "</tbody>\n",
       "</table>\n"
      ],
      "text/latex": [
       "A data.frame: 6 x 3\n",
       "\\begin{tabular}{r|lll}\n",
       "  & Location & TotalPosts & TotalBadges\\\\\n",
       "  & <chr> & <int> & <int>\\\\\n",
       "\\hline\n",
       "\t1 & New Zealand      & 9975 & 13\\\\\n",
       "\t2 & Washington DC    & 5102 &  5\\\\\n",
       "\t3 & Seattle, WA, USA & 4763 &  5\\\\\n",
       "\t4 & UK               & 4643 & 43\\\\\n",
       "\t5 & Minnesota, USA   & 3123 &  3\\\\\n",
       "\t6 & United States    & 2883 & 65\\\\\n",
       "\\end{tabular}\n"
      ],
      "text/markdown": [
       "\n",
       "A data.frame: 6 x 3\n",
       "\n",
       "| <!--/--> | Location &lt;chr&gt; | TotalPosts &lt;int&gt; | TotalBadges &lt;int&gt; |\n",
       "|---|---|---|---|\n",
       "| 1 | New Zealand      | 9975 | 13 |\n",
       "| 2 | Washington DC    | 5102 |  5 |\n",
       "| 3 | Seattle, WA, USA | 4763 |  5 |\n",
       "| 4 | UK               | 4643 | 43 |\n",
       "| 5 | Minnesota, USA   | 3123 |  3 |\n",
       "| 6 | United States    | 2883 | 65 |\n",
       "\n"
      ],
      "text/plain": [
       "  Location         TotalPosts TotalBadges\n",
       "1 New Zealand      9975       13         \n",
       "2 Washington DC    5102        5         \n",
       "3 Seattle, WA, USA 4763        5         \n",
       "4 UK               4643       43         \n",
       "5 Minnesota, USA   3123        3         \n",
       "6 United States    2883       65         "
      ]
     },
     "metadata": {},
     "output_type": "display_data"
    }
   ],
   "source": [
    "final <- sqldf(\"\n",
    "  WITH user_badges AS (\n",
    "    SELECT DISTINCT u.Id as UserId, u.Location, b.Name as BadgeName\n",
    "    FROM Users u\n",
    "    JOIN Badges b ON u.Id = b.UserId\n",
    "    WHERE b.Name IN ('Teacher', 'Explainer', 'Commentator')\n",
    "  ),\n",
    "  post_counts AS (\n",
    "    SELECT ub.Location,\n",
    "           COUNT(p.Id) as TotalPosts\n",
    "    FROM user_badges ub\n",
    "    LEFT JOIN Posts p ON ub.UserId = p.OwnerUserId\n",
    "    GROUP BY ub.Location\n",
    "  ),\n",
    "  badge_counts AS (\n",
    "    SELECT ub.Location,\n",
    "           COUNT(ub.BadgeName) as TotalBadges\n",
    "    FROM user_badges ub\n",
    "    GROUP BY ub.Location\n",
    "  )\n",
    "  SELECT pc.Location, pc.TotalPosts, TotalBadges\n",
    "  FROM post_counts pc\n",
    "  JOIN badge_counts bc ON pc.Location = bc.Location\n",
    "  WHERE pc.Location IS NOT NULL \n",
    "  AND pc.Location <> ''\n",
    "  AND pc.TotalPosts > 0\n",
    "  ORDER BY pc.TotalPosts DESC, bc.TotalBadges DESC\n",
    "\")\n",
    "\n",
    "head(final)\n"
   ]
  },
  {
   "cell_type": "markdown",
   "metadata": {},
   "source": [
    "## 3.2 Using standard R functions\n"
   ]
  },
  {
   "cell_type": "markdown",
   "metadata": {},
   "source": [
    "#### Users with relevant badges"
   ]
  },
  {
   "cell_type": "code",
   "execution_count": 31,
   "metadata": {
    "vscode": {
     "languageId": "r"
    }
   },
   "outputs": [],
   "source": [
    "users_with_badges <- merge(\n",
    "  Users[, c(\"Id\", \"Location\")],\n",
    "  Badges[, c(\"UserId\", \"Name\")],\n",
    "  by.x = \"Id\",\n",
    "  by.y = \"UserId\"\n",
    ")\n",
    "\n",
    "users_with_badges <- users_with_badges[\n",
    "  users_with_badges$Name %in% c(\"Teacher\", \"Explainer\", \"Commentator\"),\n",
    "]\n",
    "\n",
    "names(users_with_badges) <- c(\"UserId\", \"Location\", \"BadgeName\")\n"
   ]
  },
  {
   "cell_type": "markdown",
   "metadata": {},
   "source": [
    "#### Posts by location\n"
   ]
  },
  {
   "cell_type": "code",
   "execution_count": 32,
   "metadata": {
    "vscode": {
     "languageId": "r"
    }
   },
   "outputs": [],
   "source": [
    "posts_by_location <- merge(\n",
    "  users_with_badges,\n",
    "  Posts[, c(\"OwnerUserId\", \"Id\")],\n",
    "  by.x = \"UserId\",\n",
    "  by.y = \"OwnerUserId\"\n",
    ")\n",
    "\n",
    "posts_by_location <- aggregate(\n",
    "  Id ~ Location,\n",
    "  data = posts_by_location,\n",
    "  FUN = length\n",
    ")\n",
    "\n",
    "names(posts_by_location) <- c(\"Location\", \"TotalPosts\")\n"
   ]
  },
  {
   "cell_type": "markdown",
   "metadata": {},
   "source": [
    "#### Badges by location"
   ]
  },
  {
   "cell_type": "code",
   "execution_count": 33,
   "metadata": {
    "vscode": {
     "languageId": "r"
    }
   },
   "outputs": [],
   "source": [
    "badges_by_location <- aggregate(\n",
    "  BadgeName ~ Location,\n",
    "  data = users_with_badges,\n",
    "  FUN = length\n",
    ")\n",
    "\n",
    "names(badges_by_location) <- c(\"Location\", \"TotalBadges\")\n"
   ]
  },
  {
   "cell_type": "markdown",
   "metadata": {
    "vscode": {
     "languageId": "r"
    }
   },
   "source": [
    "#### Final dataframe"
   ]
  },
  {
   "cell_type": "code",
   "execution_count": 36,
   "metadata": {
    "vscode": {
     "languageId": "r"
    }
   },
   "outputs": [
    {
     "data": {
      "text/html": [
       "<table class=\"dataframe\">\n",
       "<caption>A data.frame: 6 x 3</caption>\n",
       "<thead>\n",
       "\t<tr><th></th><th scope=col>Location</th><th scope=col>TotalPosts</th><th scope=col>TotalBadges</th></tr>\n",
       "\t<tr><th></th><th scope=col>&lt;chr&gt;</th><th scope=col>&lt;int&gt;</th><th scope=col>&lt;int&gt;</th></tr>\n",
       "</thead>\n",
       "<tbody>\n",
       "\t<tr><th scope=row>1</th><td>New Zealand     </td><td>9975</td><td>13</td></tr>\n",
       "\t<tr><th scope=row>2</th><td>Washington DC   </td><td>5102</td><td> 5</td></tr>\n",
       "\t<tr><th scope=row>3</th><td>Seattle, WA, USA</td><td>4763</td><td> 5</td></tr>\n",
       "\t<tr><th scope=row>4</th><td>UK              </td><td>4643</td><td>43</td></tr>\n",
       "\t<tr><th scope=row>5</th><td>Minnesota, USA  </td><td>3123</td><td> 3</td></tr>\n",
       "\t<tr><th scope=row>6</th><td>United States   </td><td>2883</td><td>65</td></tr>\n",
       "</tbody>\n",
       "</table>\n"
      ],
      "text/latex": [
       "A data.frame: 6 x 3\n",
       "\\begin{tabular}{r|lll}\n",
       "  & Location & TotalPosts & TotalBadges\\\\\n",
       "  & <chr> & <int> & <int>\\\\\n",
       "\\hline\n",
       "\t1 & New Zealand      & 9975 & 13\\\\\n",
       "\t2 & Washington DC    & 5102 &  5\\\\\n",
       "\t3 & Seattle, WA, USA & 4763 &  5\\\\\n",
       "\t4 & UK               & 4643 & 43\\\\\n",
       "\t5 & Minnesota, USA   & 3123 &  3\\\\\n",
       "\t6 & United States    & 2883 & 65\\\\\n",
       "\\end{tabular}\n"
      ],
      "text/markdown": [
       "\n",
       "A data.frame: 6 x 3\n",
       "\n",
       "| <!--/--> | Location &lt;chr&gt; | TotalPosts &lt;int&gt; | TotalBadges &lt;int&gt; |\n",
       "|---|---|---|---|\n",
       "| 1 | New Zealand      | 9975 | 13 |\n",
       "| 2 | Washington DC    | 5102 |  5 |\n",
       "| 3 | Seattle, WA, USA | 4763 |  5 |\n",
       "| 4 | UK               | 4643 | 43 |\n",
       "| 5 | Minnesota, USA   | 3123 |  3 |\n",
       "| 6 | United States    | 2883 | 65 |\n",
       "\n"
      ],
      "text/plain": [
       "  Location         TotalPosts TotalBadges\n",
       "1 New Zealand      9975       13         \n",
       "2 Washington DC    5102        5         \n",
       "3 Seattle, WA, USA 4763        5         \n",
       "4 UK               4643       43         \n",
       "5 Minnesota, USA   3123        3         \n",
       "6 United States    2883       65         "
      ]
     },
     "metadata": {},
     "output_type": "display_data"
    }
   ],
   "source": [
    "final <- merge(\n",
    "  posts_by_location,\n",
    "  badges_by_location,\n",
    "  by = \"Location\"\n",
    ")\n",
    "\n",
    "final <- final[final$Location != \"\" & !is.na(final$Location), ]\n",
    "\n",
    "final <- final[order(final$TotalPosts, final$TotalBadges, decreasing = TRUE), ]\n",
    "\n",
    "# reset index\n",
    "rownames(final) <- NULL\n",
    "\n",
    "head(final)\n"
   ]
  },
  {
   "cell_type": "markdown",
   "metadata": {},
   "source": [
    "## 3.3 Using dplyr package"
   ]
  },
  {
   "cell_type": "code",
   "execution_count": 123,
   "metadata": {
    "vscode": {
     "languageId": "r"
    }
   },
   "outputs": [
    {
     "data": {
      "text/html": [
       "<table class=\"dataframe\">\n",
       "<caption>A tibble: 6 x 3</caption>\n",
       "<thead>\n",
       "\t<tr><th scope=col>Location</th><th scope=col>TotalPosts</th><th scope=col>TotalBadges</th></tr>\n",
       "\t<tr><th scope=col>&lt;chr&gt;</th><th scope=col>&lt;int&gt;</th><th scope=col>&lt;int&gt;</th></tr>\n",
       "</thead>\n",
       "<tbody>\n",
       "\t<tr><td>New Zealand     </td><td>9975</td><td>13</td></tr>\n",
       "\t<tr><td>Washington DC   </td><td>5102</td><td> 5</td></tr>\n",
       "\t<tr><td>Seattle, WA, USA</td><td>4763</td><td> 5</td></tr>\n",
       "\t<tr><td>UK              </td><td>4643</td><td>43</td></tr>\n",
       "\t<tr><td>Minnesota, USA  </td><td>3123</td><td> 3</td></tr>\n",
       "\t<tr><td>United States   </td><td>2883</td><td>65</td></tr>\n",
       "</tbody>\n",
       "</table>\n"
      ],
      "text/latex": [
       "A tibble: 6 x 3\n",
       "\\begin{tabular}{lll}\n",
       " Location & TotalPosts & TotalBadges\\\\\n",
       " <chr> & <int> & <int>\\\\\n",
       "\\hline\n",
       "\t New Zealand      & 9975 & 13\\\\\n",
       "\t Washington DC    & 5102 &  5\\\\\n",
       "\t Seattle, WA, USA & 4763 &  5\\\\\n",
       "\t UK               & 4643 & 43\\\\\n",
       "\t Minnesota, USA   & 3123 &  3\\\\\n",
       "\t United States    & 2883 & 65\\\\\n",
       "\\end{tabular}\n"
      ],
      "text/markdown": [
       "\n",
       "A tibble: 6 x 3\n",
       "\n",
       "| Location &lt;chr&gt; | TotalPosts &lt;int&gt; | TotalBadges &lt;int&gt; |\n",
       "|---|---|---|\n",
       "| New Zealand      | 9975 | 13 |\n",
       "| Washington DC    | 5102 |  5 |\n",
       "| Seattle, WA, USA | 4763 |  5 |\n",
       "| UK               | 4643 | 43 |\n",
       "| Minnesota, USA   | 3123 |  3 |\n",
       "| United States    | 2883 | 65 |\n",
       "\n"
      ],
      "text/plain": [
       "  Location         TotalPosts TotalBadges\n",
       "1 New Zealand      9975       13         \n",
       "2 Washington DC    5102        5         \n",
       "3 Seattle, WA, USA 4763        5         \n",
       "4 UK               4643       43         \n",
       "5 Minnesota, USA   3123        3         \n",
       "6 United States    2883       65         "
      ]
     },
     "metadata": {},
     "output_type": "display_data"
    }
   ],
   "source": [
    "\n",
    "users_with_badges <- Users %>%\n",
    "  inner_join(Badges, by = c(\"Id\" = \"UserId\")) %>%\n",
    "  filter(Name %in% c(\"Teacher\", \"Explainer\", \"Commentator\"))\n",
    "\n",
    "posts_by_location <- users_with_badges %>%\n",
    "  inner_join(\n",
    "    Posts,\n",
    "    by = c(\"Id\" = \"OwnerUserId\"),\n",
    "    relationship = \"many-to-many\"\n",
    "  ) %>%\n",
    "  group_by(Location) %>%\n",
    "  summarise(TotalPosts = n())\n",
    "\n",
    "badges_by_location <- users_with_badges %>%\n",
    "  group_by(Location) %>%\n",
    "  summarise(TotalBadges = n())\n",
    "\n",
    "final <- posts_by_location %>%\n",
    "  left_join(badges_by_location, by = \"Location\") %>%\n",
    "  filter(!is.na(Location) & Location != \"\") %>%\n",
    "  arrange(desc(TotalPosts), desc(TotalBadges))\n",
    "\n",
    "head(final)\n"
   ]
  },
  {
   "cell_type": "markdown",
   "metadata": {
    "vscode": {
     "languageId": "r"
    }
   },
   "source": [
    "## 3.4 Comparison and thoughts\n"
   ]
  },
  {
   "cell_type": "markdown",
   "metadata": {},
   "source": [
    "#### Benchmarking"
   ]
  },
  {
   "cell_type": "code",
   "execution_count": 37,
   "metadata": {
    "vscode": {
     "languageId": "r"
    }
   },
   "outputs": [],
   "source": [
    "res <- microbenchmark(\n",
    "  base = {\n",
    "    users_with_badges <- merge(\n",
    "      Users[, c(\"Id\", \"Location\")],\n",
    "      Badges[, c(\"UserId\", \"Name\")],\n",
    "      by.x = \"Id\",\n",
    "      by.y = \"UserId\"\n",
    "    )\n",
    "    users_with_badges <- users_with_badges[\n",
    "      users_with_badges$Name %in% c(\"Teacher\", \"Explainer\", \"Commentator\"),\n",
    "    ]\n",
    "    names(users_with_badges) <- c(\"UserId\", \"Location\", \"BadgeName\")\n",
    "    posts_by_location <- merge(\n",
    "      users_with_badges,\n",
    "      Posts[, c(\"OwnerUserId\", \"Id\")],\n",
    "      by.x = \"UserId\",\n",
    "      by.y = \"OwnerUserId\"\n",
    "    )\n",
    "    posts_by_location <- aggregate(\n",
    "      Id ~ Location,\n",
    "      data = posts_by_location,\n",
    "      FUN = length\n",
    "    )\n",
    "    names(posts_by_location) <- c(\"Location\", \"TotalPosts\")\n",
    "    badges_by_location <- aggregate(\n",
    "      BadgeName ~ Location,\n",
    "      data = users_with_badges,\n",
    "      FUN = length\n",
    "    )\n",
    "    names(badges_by_location) <- c(\"Location\", \"TotalBadges\")\n",
    "    final <- merge(\n",
    "      posts_by_location,\n",
    "      badges_by_location,\n",
    "      by = \"Location\"\n",
    "    )\n",
    "    final <- final[final$Location != \"\" & !is.na(final$Location), ]\n",
    "    final <- final[\n",
    "      order(final$TotalPosts, final$TotalBadges, decreasing = TRUE),\n",
    "    ]\n",
    "  },\n",
    "  dplyr = {\n",
    "    users_with_badges <- Users %>%\n",
    "      inner_join(Badges, by = c(\"Id\" = \"UserId\")) %>%\n",
    "      filter(Name %in% c(\"Teacher\", \"Explainer\", \"Commentator\"))\n",
    "\n",
    "    posts_by_location <- users_with_badges %>%\n",
    "      inner_join(\n",
    "        Posts,\n",
    "        by = c(\"Id\" = \"OwnerUserId\"),\n",
    "        relationship = \"many-to-many\"\n",
    "      ) %>%\n",
    "      group_by(Location) %>%\n",
    "      summarise(TotalPosts = n())\n",
    "\n",
    "    badges_by_location <- users_with_badges %>%\n",
    "      group_by(Location) %>%\n",
    "      summarise(TotalBadges = n())\n",
    "\n",
    "    final <- posts_by_location %>%\n",
    "      left_join(badges_by_location, by = \"Location\") %>%\n",
    "      filter(!is.na(Location) & Location != \"\") %>%\n",
    "      arrange(desc(TotalPosts), desc(TotalBadges))\n",
    "  },\n",
    "  sqldf = {\n",
    "    sqldf(\"\n",
    "      WITH user_badges AS (\n",
    "        SELECT DISTINCT u.Id as UserId, u.Location, b.Name as BadgeName\n",
    "        FROM Users u\n",
    "        JOIN Badges b ON u.Id = b.UserId\n",
    "        WHERE b.Name IN ('Teacher', 'Explainer', 'Commentator')\n",
    "      ),\n",
    "      post_counts AS (\n",
    "        SELECT ub.Location,\n",
    "              COUNT(p.Id) as TotalPosts\n",
    "        FROM user_badges ub\n",
    "        LEFT JOIN Posts p ON ub.UserId = p.OwnerUserId\n",
    "        GROUP BY ub.Location\n",
    "      ),\n",
    "      badge_counts AS (\n",
    "        SELECT ub.Location,\n",
    "              COUNT(ub.BadgeName) as TotalBadges\n",
    "        FROM user_badges ub\n",
    "        GROUP BY ub.Location\n",
    "      )\n",
    "      SELECT pc.Location, pc.TotalPosts, TotalBadges\n",
    "      FROM post_counts pc\n",
    "      JOIN badge_counts bc ON pc.Location = bc.Location\n",
    "      WHERE pc.Location IS NOT NULL \n",
    "      AND pc.Location <> ''\n",
    "      AND pc.TotalPosts > 0\n",
    "      ORDER BY pc.TotalPosts DESC, bc.TotalBadges DESC\n",
    "    \")\n",
    "  }, times = 20\n",
    ")\n"
   ]
  },
  {
   "cell_type": "markdown",
   "metadata": {},
   "source": [
    "#### Result and thoughts"
   ]
  },
  {
   "cell_type": "code",
   "execution_count": 38,
   "metadata": {
    "vscode": {
     "languageId": "r"
    }
   },
   "outputs": [
    {
     "data": {
      "text/html": [
       "<table class=\"dataframe\">\n",
       "<caption>A data.frame: 3 x 8</caption>\n",
       "<thead>\n",
       "\t<tr><th scope=col>expr</th><th scope=col>min</th><th scope=col>lq</th><th scope=col>mean</th><th scope=col>median</th><th scope=col>uq</th><th scope=col>max</th><th scope=col>neval</th></tr>\n",
       "\t<tr><th scope=col>&lt;fct&gt;</th><th scope=col>&lt;dbl&gt;</th><th scope=col>&lt;dbl&gt;</th><th scope=col>&lt;dbl&gt;</th><th scope=col>&lt;dbl&gt;</th><th scope=col>&lt;dbl&gt;</th><th scope=col>&lt;dbl&gt;</th><th scope=col>&lt;dbl&gt;</th></tr>\n",
       "</thead>\n",
       "<tbody>\n",
       "\t<tr><td>base </td><td>225.52243</td><td>258.02905</td><td>295.29982</td><td>276.1190</td><td>319.69320</td><td>401.5638</td><td>20</td></tr>\n",
       "\t<tr><td>dplyr</td><td> 48.68045</td><td> 52.50622</td><td> 83.61369</td><td> 85.2052</td><td> 95.25614</td><td>225.8468</td><td>20</td></tr>\n",
       "\t<tr><td>sqldf</td><td>389.21960</td><td>398.95921</td><td>412.51305</td><td>404.9089</td><td>416.35900</td><td>471.1348</td><td>20</td></tr>\n",
       "</tbody>\n",
       "</table>\n"
      ],
      "text/latex": [
       "A data.frame: 3 x 8\n",
       "\\begin{tabular}{llllllll}\n",
       " expr & min & lq & mean & median & uq & max & neval\\\\\n",
       " <fct> & <dbl> & <dbl> & <dbl> & <dbl> & <dbl> & <dbl> & <dbl>\\\\\n",
       "\\hline\n",
       "\t base  & 225.52243 & 258.02905 & 295.29982 & 276.1190 & 319.69320 & 401.5638 & 20\\\\\n",
       "\t dplyr &  48.68045 &  52.50622 &  83.61369 &  85.2052 &  95.25614 & 225.8468 & 20\\\\\n",
       "\t sqldf & 389.21960 & 398.95921 & 412.51305 & 404.9089 & 416.35900 & 471.1348 & 20\\\\\n",
       "\\end{tabular}\n"
      ],
      "text/markdown": [
       "\n",
       "A data.frame: 3 x 8\n",
       "\n",
       "| expr &lt;fct&gt; | min &lt;dbl&gt; | lq &lt;dbl&gt; | mean &lt;dbl&gt; | median &lt;dbl&gt; | uq &lt;dbl&gt; | max &lt;dbl&gt; | neval &lt;dbl&gt; |\n",
       "|---|---|---|---|---|---|---|---|\n",
       "| base  | 225.52243 | 258.02905 | 295.29982 | 276.1190 | 319.69320 | 401.5638 | 20 |\n",
       "| dplyr |  48.68045 |  52.50622 |  83.61369 |  85.2052 |  95.25614 | 225.8468 | 20 |\n",
       "| sqldf | 389.21960 | 398.95921 | 412.51305 | 404.9089 | 416.35900 | 471.1348 | 20 |\n",
       "\n"
      ],
      "text/plain": [
       "  expr  min       lq        mean      median   uq        max      neval\n",
       "1 base  225.52243 258.02905 295.29982 276.1190 319.69320 401.5638 20   \n",
       "2 dplyr  48.68045  52.50622  83.61369  85.2052  95.25614 225.8468 20   \n",
       "3 sqldf 389.21960 398.95921 412.51305 404.9089 416.35900 471.1348 20   "
      ]
     },
     "metadata": {},
     "output_type": "display_data"
    }
   ],
   "source": [
    "summary(res)"
   ]
  },
  {
   "cell_type": "markdown",
   "metadata": {},
   "source": [
    "Again, the dplyr package is the fastest, followed by the base R functions and sqldf.\n",
    "\n",
    "All three methods returned exactly the same result.\n"
   ]
  },
  {
   "cell_type": "markdown",
   "metadata": {},
   "source": [
    "# 4. Task 3"
   ]
  },
  {
   "cell_type": "markdown",
   "metadata": {},
   "source": [
    "## 4.1 Using sqldf (for reference)\n"
   ]
  },
  {
   "cell_type": "code",
   "execution_count": 39,
   "metadata": {
    "vscode": {
     "languageId": "r"
    }
   },
   "outputs": [
    {
     "data": {
      "text/html": [
       "<table class=\"dataframe\">\n",
       "<caption>A data.frame: 6 x 3</caption>\n",
       "<thead>\n",
       "\t<tr><th></th><th scope=col>Title</th><th scope=col>Year</th><th scope=col>Count</th></tr>\n",
       "\t<tr><th></th><th scope=col>&lt;chr&gt;</th><th scope=col>&lt;chr&gt;</th><th scope=col>&lt;int&gt;</th></tr>\n",
       "</thead>\n",
       "<tbody>\n",
       "\t<tr><th scope=row>1</th><td>Why ride a fixed-gear bike?                          </td><td>2010</td><td>21</td></tr>\n",
       "\t<tr><th scope=row>2</th><td>Why ride a fixed-gear bike?                          </td><td>2011</td><td>31</td></tr>\n",
       "\t<tr><th scope=row>3</th><td>How do I deal with a dog chasing me when I'm touring?</td><td>2012</td><td>41</td></tr>\n",
       "\t<tr><th scope=row>4</th><td>Ride with someone who is less trained                </td><td>2013</td><td>34</td></tr>\n",
       "\t<tr><th scope=row>5</th><td>How to get over anger at inconsiderate drivers       </td><td>2014</td><td>33</td></tr>\n",
       "\t<tr><th scope=row>6</th><td>How to commute to work on your bike and dress up     </td><td>2015</td><td>39</td></tr>\n",
       "</tbody>\n",
       "</table>\n"
      ],
      "text/latex": [
       "A data.frame: 6 x 3\n",
       "\\begin{tabular}{r|lll}\n",
       "  & Title & Year & Count\\\\\n",
       "  & <chr> & <chr> & <int>\\\\\n",
       "\\hline\n",
       "\t1 & Why ride a fixed-gear bike?                           & 2010 & 21\\\\\n",
       "\t2 & Why ride a fixed-gear bike?                           & 2011 & 31\\\\\n",
       "\t3 & How do I deal with a dog chasing me when I'm touring? & 2012 & 41\\\\\n",
       "\t4 & Ride with someone who is less trained                 & 2013 & 34\\\\\n",
       "\t5 & How to get over anger at inconsiderate drivers        & 2014 & 33\\\\\n",
       "\t6 & How to commute to work on your bike and dress up      & 2015 & 39\\\\\n",
       "\\end{tabular}\n"
      ],
      "text/markdown": [
       "\n",
       "A data.frame: 6 x 3\n",
       "\n",
       "| <!--/--> | Title &lt;chr&gt; | Year &lt;chr&gt; | Count &lt;int&gt; |\n",
       "|---|---|---|---|\n",
       "| 1 | Why ride a fixed-gear bike?                           | 2010 | 21 |\n",
       "| 2 | Why ride a fixed-gear bike?                           | 2011 | 31 |\n",
       "| 3 | How do I deal with a dog chasing me when I'm touring? | 2012 | 41 |\n",
       "| 4 | Ride with someone who is less trained                 | 2013 | 34 |\n",
       "| 5 | How to get over anger at inconsiderate drivers        | 2014 | 33 |\n",
       "| 6 | How to commute to work on your bike and dress up      | 2015 | 39 |\n",
       "\n"
      ],
      "text/plain": [
       "  Title                                                 Year Count\n",
       "1 Why ride a fixed-gear bike?                           2010 21   \n",
       "2 Why ride a fixed-gear bike?                           2011 31   \n",
       "3 How do I deal with a dog chasing me when I'm touring? 2012 41   \n",
       "4 Ride with someone who is less trained                 2013 34   \n",
       "5 How to get over anger at inconsiderate drivers        2014 33   \n",
       "6 How to commute to work on your bike and dress up      2015 39   "
      ]
     },
     "metadata": {},
     "output_type": "display_data"
    }
   ],
   "source": [
    "res <- sqldf(\"\n",
    "  SELECT\n",
    "    Posts.Title,\n",
    "    UpVotesPerYear.Year,\n",
    "    MAX(UpVotesPerYear.Count) AS Count\n",
    "  FROM (\n",
    "    SELECT\n",
    "      PostId,\n",
    "      COUNT(*) AS Count,\n",
    "      STRFTIME('%Y', Votes.CreationDate) AS Year\n",
    "    FROM Votes\n",
    "    WHERE VoteTypeId=2\n",
    "    GROUP BY PostId, Year\n",
    "  ) AS UpVotesPerYear\n",
    "  JOIN Posts ON Posts.Id=UpVotesPerYear.PostId\n",
    "  WHERE Posts.PostTypeId=1\n",
    "  GROUP BY Year\n",
    "  ORDER BY Year ASC\n",
    "\")\n",
    "\n",
    "head(res)\n"
   ]
  },
  {
   "cell_type": "markdown",
   "metadata": {
    "vscode": {
     "languageId": "r"
    }
   },
   "source": [
    "## 4.2 Using standard R functions\n",
    "\n",
    "I choose to use standard R functions for this task as I find it personally more convenient and readable.\n"
   ]
  },
  {
   "cell_type": "code",
   "execution_count": 62,
   "metadata": {
    "vscode": {
     "languageId": "r"
    }
   },
   "outputs": [
    {
     "data": {
      "text/html": [
       "<table class=\"dataframe\">\n",
       "<caption>A data.frame: 6 x 3</caption>\n",
       "<thead>\n",
       "\t<tr><th></th><th scope=col>Title</th><th scope=col>Year</th><th scope=col>Count</th></tr>\n",
       "\t<tr><th></th><th scope=col>&lt;chr&gt;</th><th scope=col>&lt;chr&gt;</th><th scope=col>&lt;int&gt;</th></tr>\n",
       "</thead>\n",
       "<tbody>\n",
       "\t<tr><th scope=row>1</th><td>Why ride a fixed-gear bike?                          </td><td>2010</td><td>21</td></tr>\n",
       "\t<tr><th scope=row>2</th><td>Why ride a fixed-gear bike?                          </td><td>2011</td><td>31</td></tr>\n",
       "\t<tr><th scope=row>3</th><td>How do I deal with a dog chasing me when I'm touring?</td><td>2012</td><td>41</td></tr>\n",
       "\t<tr><th scope=row>4</th><td>Ride with someone who is less trained                </td><td>2013</td><td>34</td></tr>\n",
       "\t<tr><th scope=row>5</th><td>How to get over anger at inconsiderate drivers       </td><td>2014</td><td>33</td></tr>\n",
       "\t<tr><th scope=row>6</th><td>How to commute to work on your bike and dress up     </td><td>2015</td><td>39</td></tr>\n",
       "</tbody>\n",
       "</table>\n"
      ],
      "text/latex": [
       "A data.frame: 6 x 3\n",
       "\\begin{tabular}{r|lll}\n",
       "  & Title & Year & Count\\\\\n",
       "  & <chr> & <chr> & <int>\\\\\n",
       "\\hline\n",
       "\t1 & Why ride a fixed-gear bike?                           & 2010 & 21\\\\\n",
       "\t2 & Why ride a fixed-gear bike?                           & 2011 & 31\\\\\n",
       "\t3 & How do I deal with a dog chasing me when I'm touring? & 2012 & 41\\\\\n",
       "\t4 & Ride with someone who is less trained                 & 2013 & 34\\\\\n",
       "\t5 & How to get over anger at inconsiderate drivers        & 2014 & 33\\\\\n",
       "\t6 & How to commute to work on your bike and dress up      & 2015 & 39\\\\\n",
       "\\end{tabular}\n"
      ],
      "text/markdown": [
       "\n",
       "A data.frame: 6 x 3\n",
       "\n",
       "| <!--/--> | Title &lt;chr&gt; | Year &lt;chr&gt; | Count &lt;int&gt; |\n",
       "|---|---|---|---|\n",
       "| 1 | Why ride a fixed-gear bike?                           | 2010 | 21 |\n",
       "| 2 | Why ride a fixed-gear bike?                           | 2011 | 31 |\n",
       "| 3 | How do I deal with a dog chasing me when I'm touring? | 2012 | 41 |\n",
       "| 4 | Ride with someone who is less trained                 | 2013 | 34 |\n",
       "| 5 | How to get over anger at inconsiderate drivers        | 2014 | 33 |\n",
       "| 6 | How to commute to work on your bike and dress up      | 2015 | 39 |\n",
       "\n"
      ],
      "text/plain": [
       "  Title                                                 Year Count\n",
       "1 Why ride a fixed-gear bike?                           2010 21   \n",
       "2 Why ride a fixed-gear bike?                           2011 31   \n",
       "3 How do I deal with a dog chasing me when I'm touring? 2012 41   \n",
       "4 Ride with someone who is less trained                 2013 34   \n",
       "5 How to get over anger at inconsiderate drivers        2014 33   \n",
       "6 How to commute to work on your bike and dress up      2015 39   "
      ]
     },
     "metadata": {},
     "output_type": "display_data"
    }
   ],
   "source": [
    "upvotes_per_year <- aggregate(\n",
    "  VoteTypeId ~ PostId + strftime(CreationDate, \"%Y\"),\n",
    "  data = Votes[Votes$VoteTypeId == 2, ],\n",
    "  FUN = length\n",
    ")\n",
    "names(upvotes_per_year) <- c(\"PostId\", \"Year\", \"Count\")\n",
    "\n",
    "questions <- Posts[Posts$PostTypeId == 1, ]\n",
    "\n",
    "final <- merge(\n",
    "  upvotes_per_year,\n",
    "  questions[, c(\"Id\", \"Title\")],\n",
    "  by.x = \"PostId\",\n",
    "  by.y = \"Id\"\n",
    ")\n",
    "\n",
    "# Get max count per year\n",
    "max_counts <- aggregate(\n",
    "  Count ~ Year,\n",
    "  data = final,\n",
    "  FUN = max\n",
    ")\n",
    "\n",
    "# Join back with original data to get titles\n",
    "final <- merge(\n",
    "  final,\n",
    "  max_counts,\n",
    "  by = c(\"Year\", \"Count\")\n",
    ")\n",
    "\n",
    "final <- final[, c(\"Title\", \"Year\", \"Count\")]\n",
    "\n",
    "final <- final[order(final$Year), ]\n",
    "\n",
    "rownames(final) <- NULL\n",
    "\n",
    "head(final)\n"
   ]
  },
  {
   "cell_type": "markdown",
   "metadata": {},
   "source": [
    "## 4.3 Explanation of the query\n",
    "\n"
   ]
  },
  {
   "cell_type": "markdown",
   "metadata": {},
   "source": [
    "The query returns the most upvoted question post for each year, showing:\n",
    "\n",
    "- Title: The title of the question post\n",
    "- Year: The year the upvotes were received \n",
    "- Count: The number of upvotes received in that year\n",
    "\n",
    "It does this by:\n",
    "\n",
    "1. First getting upvote counts per post per year from the Votes table\n",
    "2. Joining with Posts to get the post titles\n",
    "3. Filtering for only question posts (PostTypeId=1)\n",
    "4. Finding the post with the maximum upvotes for each year\n",
    "5. Ordering chronologically by year\n"
   ]
  }
 ],
 "metadata": {
  "kernelspec": {
   "display_name": "R",
   "language": "R",
   "name": "ir"
  },
  "language_info": {
   "codemirror_mode": "r",
   "file_extension": ".r",
   "mimetype": "text/x-r-source",
   "name": "R",
   "pygments_lexer": "r",
   "version": "4.4.1"
  }
 },
 "nbformat": 4,
 "nbformat_minor": 2
}
